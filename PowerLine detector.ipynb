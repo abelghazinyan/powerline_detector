{
 "cells": [
  {
   "cell_type": "code",
   "execution_count": 47,
   "metadata": {},
   "outputs": [],
   "source": [
    "import cv2 as cv\n",
    "import numpy as np\n",
    "from skimage.filters import gabor_kernel"
   ]
  },
  {
   "cell_type": "code",
   "execution_count": 48,
   "metadata": {},
   "outputs": [],
   "source": [
    "#Thresholding values for powerline color in HSV color space\n",
    "low_H = 0\n",
    "low_S = 45\n",
    "low_V = 0\n",
    "\n",
    "high_H = 90\n",
    "high_S = 255\n",
    "high_V = 255"
   ]
  },
  {
   "cell_type": "code",
   "execution_count": 49,
   "metadata": {},
   "outputs": [],
   "source": [
    "#Get angle between two vectors with arcat\n",
    "def angle(v1, v2, acute):\n",
    "    if v1[0]-v2[0] == 0:\n",
    "        return np.pi/2\n",
    "    angle = np.arctan((v1[1]-v2[1])/(v1[0]-v2[0]))\n",
    "    return np.rad2deg(angle)"
   ]
  },
  {
   "cell_type": "code",
   "execution_count": 51,
   "metadata": {},
   "outputs": [],
   "source": [
    "def draw_lines(lines, mask):\n",
    "    if lines is not None:\n",
    "        for line in lines:\n",
    "            for x1, y1, x2, y2 in line:\n",
    "                cv.line(mask, (x1, y1), (x2, y2), (255, 255, 255), 3)\n",
    "    return mask"
   ]
  },
  {
   "cell_type": "code",
   "execution_count": 52,
   "metadata": {},
   "outputs": [],
   "source": [
    "def average_angle(lines):\n",
    "    avrg = 0.0\n",
    "    if lines is not None:\n",
    "        for line in lines:\n",
    "            for x1, y1, x2, y2 in line:\n",
    "                avrg += angle((x1,y1), (x2,y2), True)\n",
    "        avrg = avrg / lines.shape[0]\n",
    "    return avrg"
   ]
  },
  {
   "cell_type": "code",
   "execution_count": 53,
   "metadata": {},
   "outputs": [],
   "source": [
    "img = cv.imread(\"6.JPG\")#read the image"
   ]
  },
  {
   "cell_type": "code",
   "execution_count": 54,
   "metadata": {},
   "outputs": [
    {
     "data": {
      "text/plain": [
       "True"
      ]
     },
     "execution_count": 54,
     "metadata": {},
     "output_type": "execute_result"
    }
   ],
   "source": [
    "#Convert image to HSV color space and threshold\n",
    "img_hsv = cv.cvtColor(img, cv.COLOR_BGR2HSV)\n",
    "\n",
    "thresh_hsv = cv.inRange(img_hsv, (low_H, low_S, low_V), (high_H, high_S, high_V))\n",
    "thresh_hsv = 255 - thresh_hsv\n",
    "\n",
    "cv.imwrite('results/1_thresh_HSV.jpg',thresh_hsv)"
   ]
  },
  {
   "cell_type": "code",
   "execution_count": 61,
   "metadata": {},
   "outputs": [
    {
     "data": {
      "text/plain": [
       "True"
      ]
     },
     "execution_count": 61,
     "metadata": {},
     "output_type": "execute_result"
    }
   ],
   "source": [
    "#Apply \n",
    "thresh = np.zeros_like(thresh_hsv)#store threshold\n",
    "\n",
    "THETA_A = -20\n",
    "THETA_B = 40\n",
    "\n",
    "kernel = np.ones((1,1),np.uint8)#kernel for dilation\n",
    "\n",
    "#Apply Gabor filter for theta with predefined filter arguments\n",
    "for theta in range(THETA_A, THETA_B, 2):\n",
    "    kern = np.real(gabor_kernel(1 / 12, theta=np.deg2rad(theta), sigma_x=35 / 6.3, sigma_y=35 / 6.3))\n",
    "    fimg = cv.filter2D(img, cv.CV_8UC3, kern)\n",
    "    accum = np.zeros_like(fimg)\n",
    "    np.maximum(accum, fimg, accum)\n",
    "    accum = cv.cvtColor(accum,cv.COLOR_BGR2GRAY)\n",
    "    ret, thresh_tmp = cv.threshold(accum, 9, 255, cv.THRESH_BINARY) #threshold from gabor filter\n",
    "\n",
    "    thresh_tmp = cv.dilate(thresh_tmp, kernel, iterations=3)\n",
    "\n",
    "    thresh = cv.bitwise_or(thresh, thresh_tmp) # collecting overal lines\n",
    "\n",
    "thresh = cv.bitwise_and(thresh_hsv,thresh) # hsv and gabor threshold bitwise and\n",
    "thresh = cv.dilate(thresh, kernel, iterations=1)\n",
    "\n",
    "cv.imwrite('results/2_thres_GABOR.png', thresh)#save gabor threshold after bitwise and with HSV threshold"
   ]
  },
  {
   "cell_type": "code",
   "execution_count": 62,
   "metadata": {},
   "outputs": [
    {
     "data": {
      "text/plain": [
       "True"
      ]
     },
     "execution_count": 62,
     "metadata": {},
     "output_type": "execute_result"
    }
   ],
   "source": [
    "#Find line segments with probabilistic Hough Transform\n",
    "lines = cv.HoughLinesP(thresh, rho=0.2, theta=np.pi / 90, threshold=40, minLineLength=80, maxLineGap=3)\n",
    "line_mask = np.zeros_like(thresh)#binary mask image of drawn line segments\n",
    "line_mask = draw_lines(lines,line_mask)\n",
    "cv.imwrite('results/3_mask_hough.png', line_mask)"
   ]
  },
  {
   "cell_type": "code",
   "execution_count": 63,
   "metadata": {},
   "outputs": [],
   "source": [
    "angles = np.array([])#angles of line segments\n",
    "\n",
    "if lines is not None:\n",
    "    for line in lines:\n",
    "        for x1, y1, x2, y2 in line:\n",
    "            if angles.shape[0] == 0:\n",
    "                angles = np.array([angle([x1,y1], [x2,y2], True)])\n",
    "            else:\n",
    "                angles = np.append(angles,[angle([x1,y1], [x2,y2], True)],axis=0)"
   ]
  },
  {
   "cell_type": "code",
   "execution_count": 64,
   "metadata": {},
   "outputs": [
    {
     "data": {
      "text/plain": [
       "True"
      ]
     },
     "execution_count": 64,
     "metadata": {},
     "output_type": "execute_result"
    }
   ],
   "source": [
    "ANGLE_THRESHOLD = 7\n",
    "avrg_angle = average_angle(lines)\n",
    "\n",
    "angle_label = np.zeros((angles.shape[0],1)).astype(int)\n",
    "i = 0\n",
    "for a in angles:\n",
    "    if a > avrg_angle + ANGLE_THRESHOLD or a < avrg_angle - ANGLE_THRESHOLD:\n",
    "        angle_label[i] = 1\n",
    "    i += 1 \n",
    "#Remove outlier segments\n",
    "i = 0\n",
    "for p in angle_label:\n",
    "    if p == 1:\n",
    "        lines = np.delete(lines, i, axis=0)\n",
    "        i -= 1\n",
    "    i+=1\n",
    "    \n",
    "#Make mask after removing outliers\n",
    "line_mask = np.zeros_like(line_mask)\n",
    "line_mask = draw_lines(lines, line_mask)\n",
    "cv.imwrite('results/4_mask_filtered.png', line_mask)"
   ]
  },
  {
   "cell_type": "code",
   "execution_count": 65,
   "metadata": {},
   "outputs": [
    {
     "data": {
      "text/plain": [
       "True"
      ]
     },
     "execution_count": 65,
     "metadata": {},
     "output_type": "execute_result"
    }
   ],
   "source": [
    "#Find line segments with probabilistic Hough Transform\n",
    "lines_over = cv.HoughLinesP(line_mask, rho=7, theta=np.pi / 90, threshold=200, minLineLength=10, maxLineGap=500)\n",
    "line_mask_over = np.zeros_like(thresh)#binary mask image of drawn line segments\n",
    "line_mask_over = draw_lines(lines_over,line_mask_over)\n",
    "cv.imwrite('results/5_mask_overline.png', line_mask_over)"
   ]
  },
  {
   "cell_type": "code",
   "execution_count": 68,
   "metadata": {},
   "outputs": [
    {
     "data": {
      "text/plain": [
       "True"
      ]
     },
     "execution_count": 68,
     "metadata": {},
     "output_type": "execute_result"
    }
   ],
   "source": [
    "#label found lines and remove small ones\n",
    "\n",
    "ret, labels = cv.connectedComponents(line_mask_over)\n",
    "assert ret != 0,\"NO lines\"\n",
    "# Map component labels to hue val\n",
    "label_hue = np.uint8(179*labels/np.max(labels))\n",
    "blank_ch = 255*np.ones_like(label_hue)\n",
    "labeled_img = cv.merge([label_hue, blank_ch, blank_ch])\n",
    "# cvt to BGR for display\n",
    "labeled_img = cv.cvtColor(labeled_img, cv.COLOR_HSV2BGR)\n",
    "\n",
    "# set bg label to black\n",
    "labeled_img[label_hue==0] = 0\n",
    "\n",
    "cv.imwrite('results/6_labeled.png',labeled_img)\n",
    "\n",
    "avrg_surface = 0\n",
    "for i in range(1,ret):\n",
    "    avrg_surface += labels[labels==i].shape[0]\n",
    "avrg_surface /= ret - 1\n",
    "\n",
    "SURFACE_THRESH = 0.5\n",
    "\n",
    "for i in range(1,ret):\n",
    "    if labels[labels==i].shape[0] < avrg_surface*SURFACE_THRESH:\n",
    "        labeled_img[labels==i] = 0\n",
    "cv.imwrite('results/7_labeled_filtered.png',labeled_img)\n",
    "\n",
    "labeled_img = cv.cvtColor(labeled_img, cv.COLOR_BGR2GRAY)\n",
    "\n",
    "ret, result = cv.threshold(labeled_img, 1, 255, cv.THRESH_BINARY)\n",
    "\n",
    "cv.imwrite('results/8_result.png',result)"
   ]
  },
  {
   "cell_type": "code",
   "execution_count": 70,
   "metadata": {},
   "outputs": [
    {
     "data": {
      "text/plain": [
       "True"
      ]
     },
     "execution_count": 70,
     "metadata": {},
     "output_type": "execute_result"
    }
   ],
   "source": [
    "#Inpaint: remove detected lines from the image\n",
    "dst = cv.inpaint(img,result,3,cv.INPAINT_TELEA)\n",
    "cv.imwrite('results/9_inpaint.png', dst)"
   ]
  },
  {
   "cell_type": "code",
   "execution_count": null,
   "metadata": {},
   "outputs": [],
   "source": []
  },
  {
   "cell_type": "code",
   "execution_count": null,
   "metadata": {},
   "outputs": [],
   "source": []
  }
 ],
 "metadata": {
  "kernelspec": {
   "display_name": "Python 3",
   "language": "python",
   "name": "python3"
  },
  "language_info": {
   "codemirror_mode": {
    "name": "ipython",
    "version": 3
   },
   "file_extension": ".py",
   "mimetype": "text/x-python",
   "name": "python",
   "nbconvert_exporter": "python",
   "pygments_lexer": "ipython3",
   "version": "3.5.6"
  }
 },
 "nbformat": 4,
 "nbformat_minor": 2
}
